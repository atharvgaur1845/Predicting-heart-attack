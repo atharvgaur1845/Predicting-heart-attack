{
 "cells": [
  {
   "cell_type": "code",
   "execution_count": 23,
   "id": "a9398f13-ab6d-41b1-952f-1fe764151ae2",
   "metadata": {},
   "outputs": [],
   "source": [
    "import pandas as pd\n",
    "import matplotlib.pyplot as plt\n",
    "import numpy as np\n",
    "import seaborn as sns\n",
    "import scipy.stats as stats"
   ]
  },
  {
   "cell_type": "code",
   "execution_count": 4,
   "id": "57d8a950-b42d-493a-9e9b-96db802d71e9",
   "metadata": {},
   "outputs": [
    {
     "name": "stdout",
     "output_type": "stream",
     "text": [
      "                Age       Smoking  Alcohol_Consumption           BMI  \\\n",
      "count  50000.000000  50000.000000         50000.000000  50000.000000   \n",
      "mean      53.398700      0.298420             0.401980     27.519357   \n",
      "std       20.799006      0.457569             0.490303      7.225176   \n",
      "min       18.000000      0.000000             0.000000     15.000000   \n",
      "25%       35.000000      0.000000             0.000000     21.270000   \n",
      "50%       53.000000      0.000000             0.000000     27.540000   \n",
      "75%       71.000000      1.000000             1.000000     33.770000   \n",
      "max       89.000000      1.000000             1.000000     40.000000   \n",
      "\n",
      "           Diabetes  Hypertension  Cholesterol_Level    Resting_BP  \\\n",
      "count  50000.000000   50000.00000       50000.000000  50000.000000   \n",
      "mean       0.198840       0.29738         225.036444    134.434100   \n",
      "std        0.399131       0.45711          43.317373     25.907961   \n",
      "min        0.000000       0.00000         150.000000     90.000000   \n",
      "25%        0.000000       0.00000         187.300000    112.000000   \n",
      "50%        0.000000       0.00000         225.100000    134.000000   \n",
      "75%        0.000000       1.00000         262.600000    157.000000   \n",
      "max        1.000000       1.00000         300.000000    179.000000   \n",
      "\n",
      "         Heart_Rate  Family_History  Fasting_Blood_Sugar  \\\n",
      "count  50000.000000     50000.00000         50000.000000   \n",
      "mean      94.530480         0.30034             0.149360   \n",
      "std       20.187124         0.45841             0.356447   \n",
      "min       60.000000         0.00000             0.000000   \n",
      "25%       77.000000         0.00000             0.000000   \n",
      "50%       94.000000         0.00000             0.000000   \n",
      "75%      112.000000         1.00000             0.000000   \n",
      "max      129.000000         1.00000             1.000000   \n",
      "\n",
      "       Exercise_Induced_Angina  Max_Heart_Rate_Achieved  \n",
      "count             50000.000000             50000.000000  \n",
      "mean                  0.201640               149.305340  \n",
      "std                   0.401229                28.823699  \n",
      "min                   0.000000               100.000000  \n",
      "25%                   0.000000               124.000000  \n",
      "50%                   0.000000               149.000000  \n",
      "75%                   0.000000               174.000000  \n",
      "max                   1.000000               199.000000  \n"
     ]
    }
   ],
   "source": [
    "df = pd.read_csv(\"heart_attack_risk_dataset.csv\")#read the data as pandas dataframe\n",
    "print(df.describe())"
   ]
  },
  {
   "cell_type": "code",
   "execution_count": 33,
   "id": "329924b2-817d-4d2c-bc79-256dd63b72d7",
   "metadata": {},
   "outputs": [
    {
     "name": "stdout",
     "output_type": "stream",
     "text": [
      "Chi-Square Statistic: 1.0045505526564324\n",
      "P-value: 0.6051522036391641\n",
      "Degrees of Freedom: 2\n",
      "There is no significant difference between smokers and non-smokers in terms of heart attack risk.\n"
     ]
    }
   ],
   "source": [
    "#we will do same univariate analysis with all of the variables to see how significant are they for prediction of the heart attack risk.\n",
    "if \"Smoking\" in df.columns and \"Heart_Attack_Risk\" in df.columns:\n",
    "    # Add a new column for smoking status\n",
    "    df['Smoking Status'] = df['Smoking'].apply(lambda x: 'Smoker' if x == 1 else 'Non-Smoker')\n",
    "    \n",
    "    # Create a contingency table\n",
    "    contingency_table = pd.crosstab(df['Smoking Status'], df['Heart_Attack_Risk'])\n",
    "    \n",
    "    # Perform Chi-Square test\n",
    "    chi2_stat, p_value, dof, expected = stats.chi2_contingency(contingency_table)\n",
    "    \n",
    "    # Print the results\n",
    "    print(f\"Chi-Square Statistic: {chi2_stat}\")\n",
    "    print(f\"P-value: {p_value}\")\n",
    "    print(f\"Degrees of Freedom: {dof}\")\n",
    "    \n",
    "    # Interpretation of p-value\n",
    "    if p_value < 0.05:\n",
    "        print(\"There is a significant difference between smokers and non-smokers in terms of heart attack risk.\")\n",
    "    else:\n",
    "        print(\"There is no significant difference between smokers and non-smokers in terms of heart attack risk.\")\n"
   ]
  },
  {
   "cell_type": "code",
   "execution_count": 34,
   "id": "f00b0036-04c9-45f4-bfab-799fdbea3fed",
   "metadata": {},
   "outputs": [
    {
     "name": "stdout",
     "output_type": "stream",
     "text": [
      "Chi-Square Statistic: 1.2542725263889825\n",
      "P-value: 0.5341191897255565\n",
      "Degrees of Freedom: 2\n",
      "There is no significant difference between Consumers and non-Consumers in terms of heart attack risk.\n"
     ]
    }
   ],
   "source": [
    "#we will do same univariate analysis with all of the variables to see how significant are they for prediction of the heart attack risk.\n",
    "\n",
    "if \"Alcohol_Consumption\" in df.columns and \"Heart_Attack_Risk\" in df.columns:\n",
    "    # Add a new column for  status\n",
    "    df['Consuming_status'] = df['Alcohol_Consumption'].apply(lambda x: 'Consumer' if x == 1 else 'Non-Consumer')\n",
    "    \n",
    "    # Create a contingency table\n",
    "    contingency_table = pd.crosstab(df['Consuming_status'], df['Heart_Attack_Risk'])\n",
    "    \n",
    "    # Perform Chi-Square test\n",
    "    chi2_stat, p_value, dof, expected = stats.chi2_contingency(contingency_table)\n",
    "    \n",
    "    # Print the results\n",
    "    print(f\"Chi-Square Statistic: {chi2_stat}\")\n",
    "    print(f\"P-value: {p_value}\")\n",
    "    print(f\"Degrees of Freedom: {dof}\")\n",
    "    \n",
    "    # Interpretation of p-value\n",
    "    if p_value < 0.05:\n",
    "        print(\"There is a significant difference between Consumers and non-Consumers in terms of heart attack risk.\")\n",
    "    else:\n",
    "        print(\"There is no significant difference between Consumers and non-Consumers in terms of heart attack risk.\")\n"
   ]
  },
  {
   "cell_type": "code",
   "execution_count": 35,
   "id": "d1b350df-91b1-4e86-aba3-b8c7e75f4028",
   "metadata": {},
   "outputs": [
    {
     "name": "stdout",
     "output_type": "stream",
     "text": [
      "Chi-Square Statistic: 2.5641465441975084\n",
      "P-value: 0.27746145062871075\n",
      "Degrees of Freedom: 2\n",
      "There is no significant difference on the basis of Diabetes in terms of heart attack risk.\n"
     ]
    }
   ],
   "source": [
    "import scipy.stats as stats\n",
    "\n",
    "if \"Diabetes\" in df.columns and \"Heart_Attack_Risk\" in df.columns:\n",
    "    # Add a new column for smoking status\n",
    "    df['Status'] = df['Diabetes'].apply(lambda x: 'Yes' if x == 1 else 'No')\n",
    "    \n",
    "    # Create a contingency table\n",
    "    contingency_table = pd.crosstab(df['Status'], df['Heart_Attack_Risk'])\n",
    "    \n",
    "    # Perform Chi-Square test\n",
    "    chi2_stat, p_value, dof, expected = stats.chi2_contingency(contingency_table)\n",
    "    \n",
    "    # Print the results\n",
    "    print(f\"Chi-Square Statistic: {chi2_stat}\")\n",
    "    print(f\"P-value: {p_value}\")\n",
    "    print(f\"Degrees of Freedom: {dof}\")\n",
    "    \n",
    "    # Interpretation of p-value\n",
    "    if p_value < 0.05:\n",
    "        print(\"There is a significant difference on the basis of Diabetes in terms of heart attack risk.\")\n",
    "    else:\n",
    "        print(\"There is no significant difference on the basis of Diabetes in terms of heart attack risk.\")\n"
   ]
  },
  {
   "cell_type": "code",
   "execution_count": 36,
   "id": "9cda1a51-a89c-4091-870c-aa3371c1db06",
   "metadata": {},
   "outputs": [
    {
     "name": "stdout",
     "output_type": "stream",
     "text": [
      "Chi-Square Statistic: 7.585750389350148\n",
      "P-value: 0.022530728403585897\n",
      "Degrees of Freedom: 2\n",
      "There is a significant difference on the basis of Hypertension in terms of heart attack risk.\n"
     ]
    }
   ],
   "source": [
    "import scipy.stats as stats\n",
    "\n",
    "if \"Hypertension\" in df.columns and \"Heart_Attack_Risk\" in df.columns:\n",
    "    # Add a new column for smoking status\n",
    "    df['Status'] = df['Hypertension'].apply(lambda x: 'Yes' if x == 1 else 'No')\n",
    "    \n",
    "    # Create a contingency table\n",
    "    contingency_table = pd.crosstab(df['Status'], df['Heart_Attack_Risk'])\n",
    "    \n",
    "    # Perform Chi-Square test\n",
    "    chi2_stat, p_value, dof, expected = stats.chi2_contingency(contingency_table) \n",
    "    # Print the results\n",
    "    print(f\"Chi-Square Statistic: {chi2_stat}\")\n",
    "    print(f\"P-value: {p_value}\")\n",
    "    print(f\"Degrees of Freedom: {dof}\")\n",
    "    \n",
    "    # Interpretation of p-value\n",
    "    if p_value < 0.05:\n",
    "        print(\"There is a significant difference on the basis of Hypertension in terms of heart attack risk.\")\n",
    "    else:\n",
    "        print(\"There is no significant difference on the basis of Hypertension in terms of heart attack risk.\")\n"
   ]
  },
  {
   "cell_type": "code",
   "execution_count": 37,
   "id": "aa4fecda-8df6-4215-8610-1ce02310b4df",
   "metadata": {},
   "outputs": [
    {
     "name": "stdout",
     "output_type": "stream",
     "text": [
      "Chi-Square Statistic: 2.5846718576943712\n",
      "P-value: 0.2746285205585781\n",
      "Degrees of Freedom: 2\n",
      "There is no significant difference on the basis of Family_History in terms of heart attack risk.\n"
     ]
    }
   ],
   "source": [
    "import scipy.stats as stats\n",
    "\n",
    "if \"Family_History\" in df.columns and \"Heart_Attack_Risk\" in df.columns:\n",
    "    # Add a new column for smoking status\n",
    "    df['Status'] = df['Family_History'].apply(lambda x: 'Yes' if x == 1 else 'No')\n",
    "    \n",
    "    # Create a contingency table\n",
    "    contingency_table = pd.crosstab(df['Status'], df['Heart_Attack_Risk'])\n",
    "    \n",
    "    # Perform Chi-Square test\n",
    "    chi2_stat, p_value, dof, expected = stats.chi2_contingency(contingency_table) \n",
    "    # Print the results\n",
    "    print(f\"Chi-Square Statistic: {chi2_stat}\")\n",
    "    print(f\"P-value: {p_value}\")\n",
    "    print(f\"Degrees of Freedom: {dof}\")\n",
    "    \n",
    "    # Interpretation of p-value\n",
    "    if p_value < 0.05:\n",
    "        print(\"There is a significant difference on the basis of Family_History in terms of heart attack risk.\")\n",
    "    else:\n",
    "        print(\"There is no significant difference on the basis of Family_History in terms of heart attack risk.\")\n"
   ]
  },
  {
   "cell_type": "code",
   "execution_count": 38,
   "id": "8f38f42f-f634-4b09-83ee-33bad7036010",
   "metadata": {},
   "outputs": [
    {
     "name": "stdout",
     "output_type": "stream",
     "text": [
      "Chi-Square Statistic: 2.001346371810934\n",
      "P-value: 0.3676318732556999\n",
      "Degrees of Freedom: 2\n",
      "There is no significant difference on the basis of Fasting_Blood_Sugar in terms of heart attack risk.\n"
     ]
    }
   ],
   "source": [
    "import scipy.stats as stats\n",
    "\n",
    "if \"Fasting_Blood_Sugar\" in df.columns and \"Heart_Attack_Risk\" in df.columns:\n",
    "    # Add a new column for smoking status\n",
    "    df['Status'] = df['Fasting_Blood_Sugar'].apply(lambda x: 'Yes' if x == 1 else 'No')\n",
    "    \n",
    "    # Create a contingency table\n",
    "    contingency_table = pd.crosstab(df['Status'], df['Heart_Attack_Risk'])\n",
    "    \n",
    "    # Perform Chi-Square test\n",
    "    chi2_stat, p_value, dof, expected = stats.chi2_contingency(contingency_table) \n",
    "    # Print the results\n",
    "    print(f\"Chi-Square Statistic: {chi2_stat}\")\n",
    "    print(f\"P-value: {p_value}\")\n",
    "    print(f\"Degrees of Freedom: {dof}\")\n",
    "    \n",
    "    # Interpretation of p-value\n",
    "    if p_value < 0.05:\n",
    "        print(\"There is a significant difference on the basis of Fasting_Blood_Sugar in terms of heart attack risk.\")\n",
    "    else:\n",
    "        print(\"There is no significant difference on the basis of Fasting_Blood_Sugar in terms of heart attack risk.\")\n"
   ]
  },
  {
   "cell_type": "code",
   "execution_count": 39,
   "id": "fbb909a7-40c2-43e1-8215-65326115feda",
   "metadata": {},
   "outputs": [
    {
     "name": "stdout",
     "output_type": "stream",
     "text": [
      "Chi-Square Statistic: 4.491814136445576\n",
      "P-value: 0.10583150043172901\n",
      "Degrees of Freedom: 2\n",
      "There is no significant difference on the basis of Exercise_Induced_Angina in terms of heart attack risk.\n"
     ]
    }
   ],
   "source": [
    "import scipy.stats as stats\n",
    "\n",
    "if \"Exercise_Induced_Angina\" in df.columns and \"Heart_Attack_Risk\" in df.columns:\n",
    "    # Add a new column for smoking status\n",
    "    df['Status'] = df['Exercise_Induced_Angina'].apply(lambda x: 'Yes' if x == 1 else 'No')\n",
    "    \n",
    "    # Create a contingency table\n",
    "    contingency_table = pd.crosstab(df['Status'], df['Heart_Attack_Risk'])\n",
    "    \n",
    "    # Perform Chi-Square test\n",
    "    chi2_stat, p_value, dof, expected = stats.chi2_contingency(contingency_table) \n",
    "    # Print the results\n",
    "    print(f\"Chi-Square Statistic: {chi2_stat}\")\n",
    "    print(f\"P-value: {p_value}\")\n",
    "    print(f\"Degrees of Freedom: {dof}\")\n",
    "    \n",
    "    # Interpretation of p-value\n",
    "    if p_value < 0.05:\n",
    "        print(\"There is a significant difference on the basis of Exercise_Induced_Angina in terms of heart attack risk.\")\n",
    "    else:\n",
    "        print(\"There is no significant difference on the basis of Exercise_Induced_Angina in terms of heart attack risk.\")\n"
   ]
  },
  {
   "cell_type": "code",
   "execution_count": 40,
   "id": "92656ec9-08de-49a0-8e3e-bf434a80e2a8",
   "metadata": {},
   "outputs": [
    {
     "name": "stdout",
     "output_type": "stream",
     "text": [
      "Chi-Square Statistic: 1.4020138256660757\n",
      "P-value: 0.8438449283534292\n",
      "Degrees of Freedom: 4\n",
      "There is no significant difference on the basis of physical activity level  in terms of heart attack risk.\n"
     ]
    }
   ],
   "source": [
    "#for physical_activity_level\n",
    "    # Create a contingency table\n",
    "contingency_table = pd.crosstab(df['Physical_Activity_Level'], df['Heart_Attack_Risk'])\n",
    "    \n",
    "    # Perform Chi-Square test\n",
    "chi2_stat, p_value, dof, expected = stats.chi2_contingency(contingency_table)\n",
    "    \n",
    "    # Print the results\n",
    "print(f\"Chi-Square Statistic: {chi2_stat}\")\n",
    "print(f\"P-value: {p_value}\")\n",
    "print(f\"Degrees of Freedom: {dof}\")\n",
    "    \n",
    "    # Interpretation of p-value\n",
    "if p_value < 0.05:\n",
    "    print(\"There is a significant difference on the basis of physical activity level in terms of heart attack risk.\")\n",
    "else:\n",
    "    print(\"There is no significant difference on the basis of physical activity level  in terms of heart attack risk.\")"
   ]
  },
  {
   "cell_type": "code",
   "execution_count": 93,
   "id": "b12b518d-22a2-4913-bba2-9a0c95777cf7",
   "metadata": {},
   "outputs": [
    {
     "name": "stdout",
     "output_type": "stream",
     "text": [
      "Chi-Square Statistic: 0.5608229966952549\n",
      "P-value: 0.7554728016749434\n",
      "Degrees of Freedom: 2\n",
      "No significant difference.\n"
     ]
    }
   ],
   "source": [
    "    # Create a contingency table\n",
    "    contingency_table = pd.crosstab(df['Gender'], df['Heart_Attack_Risk'])\n",
    "    \n",
    "    # Perform Chi-Square test\n",
    "    chi2_stat, p_value, dof, expected = stats.chi2_contingency(contingency_table)\n",
    "    \n",
    "    # Print the results\n",
    "    print(f\"Chi-Square Statistic: {chi2_stat}\")\n",
    "    print(f\"P-value: {p_value}\")\n",
    "    print(f\"Degrees of Freedom: {dof}\")\n",
    "    \n",
    "    # Interpretation of p-value\n",
    "    if p_value < 0.05:\n",
    "        print(\"Significant difference found.\")\n",
    "    else:\n",
    "        print(\"No significant difference.\")"
   ]
  },
  {
   "cell_type": "code",
   "execution_count": 95,
   "id": "be07e0b3-c2e3-43fa-8bbd-ae960432528c",
   "metadata": {},
   "outputs": [
    {
     "name": "stdout",
     "output_type": "stream",
     "text": [
      "Chi-Square Statistic: 7.304741665310891\n",
      "P-value: 0.12063402704657074\n",
      "Degrees of Freedom: 4\n",
      "No significant difference.\n"
     ]
    }
   ],
   "source": [
    "    # Create a contingency table\n",
    "    contingency_table = pd.crosstab(df['Stress_Level'], df['Heart_Attack_Risk'])\n",
    "    \n",
    "    # Perform Chi-Square test\n",
    "    chi2_stat, p_value, dof, expected = stats.chi2_contingency(contingency_table)\n",
    "    \n",
    "    # Print the results\n",
    "    print(f\"Chi-Square Statistic: {chi2_stat}\")\n",
    "    print(f\"P-value: {p_value}\")\n",
    "    print(f\"Degrees of Freedom: {dof}\")\n",
    "    \n",
    "    # Interpretation of p-value\n",
    "    if p_value < 0.05:\n",
    "        print(\"Significant difference found.\")\n",
    "    else:\n",
    "        print(\"No significant difference.\")"
   ]
  },
  {
   "cell_type": "code",
   "execution_count": 96,
   "id": "e98f4b98-3aa1-4f38-972b-034f77c2b388",
   "metadata": {},
   "outputs": [
    {
     "name": "stdout",
     "output_type": "stream",
     "text": [
      "Chi-Square Statistic: 5.3763495900438825\n",
      "P-value: 0.4965256680530298\n",
      "Degrees of Freedom: 6\n",
      "No significant difference.\n"
     ]
    }
   ],
   "source": [
    "    # Create a contingency table\n",
    "    contingency_table = pd.crosstab(df['Chest_Pain_Type'], df['Heart_Attack_Risk'])\n",
    "    \n",
    "    # Perform Chi-Square test\n",
    "    chi2_stat, p_value, dof, expected = stats.chi2_contingency(contingency_table)\n",
    "    \n",
    "    # Print the results\n",
    "    print(f\"Chi-Square Statistic: {chi2_stat}\")\n",
    "    print(f\"P-value: {p_value}\")\n",
    "    print(f\"Degrees of Freedom: {dof}\")\n",
    "    \n",
    "    # Interpretation of p-value\n",
    "    if p_value < 0.05:\n",
    "        print(\"Significant difference found.\")\n",
    "    else:\n",
    "        print(\"No significant difference.\")"
   ]
  },
  {
   "cell_type": "code",
   "execution_count": 97,
   "id": "3d50c01e-23f8-4b97-bf84-5f989cbc9d3f",
   "metadata": {},
   "outputs": [
    {
     "name": "stdout",
     "output_type": "stream",
     "text": [
      "Chi-Square Statistic: 1.9519358276504422\n",
      "P-value: 0.7445989314770092\n",
      "Degrees of Freedom: 4\n",
      "No significant difference.\n"
     ]
    }
   ],
   "source": [
    "    # Create a contingency table\n",
    "    contingency_table = pd.crosstab(df['ECG_Results'], df['Heart_Attack_Risk'])\n",
    "    \n",
    "    # Perform Chi-Square test\n",
    "    chi2_stat, p_value, dof, expected = stats.chi2_contingency(contingency_table)\n",
    "    \n",
    "    # Print the results\n",
    "    print(f\"Chi-Square Statistic: {chi2_stat}\")\n",
    "    print(f\"P-value: {p_value}\")\n",
    "    print(f\"Degrees of Freedom: {dof}\")\n",
    "    \n",
    "    # Interpretation of p-value\n",
    "    if p_value < 0.05:\n",
    "        print(\"Significant difference found.\")\n",
    "    else:\n",
    "        print(\"No significant difference.\")"
   ]
  },
  {
   "cell_type": "code",
   "execution_count": 103,
   "id": "316e6815-041e-4492-9515-063c753abac1",
   "metadata": {},
   "outputs": [
    {
     "name": "stdout",
     "output_type": "stream",
     "text": [
      "f-statistic: 0.05822858901877367\n",
      "p-value: 0.943434328051212\n",
      "No significant difference found.\n"
     ]
    }
   ],
   "source": [
    "low_age = df[df['Heart_Attack_Risk'] == 'Low']['Age']\n",
    "moderate_age = df[df['Heart_Attack_Risk'] == 'Moderate']['Age']\n",
    "high_age = df[df['Heart_Attack_Risk'] == 'High']['Age']\n",
    "\n",
    "# Perform One-Way ANOVA Test\n",
    "f_stat, p_value = stats.f_oneway(low_age, moderate_age, high_age)\n",
    "\n",
    "# Print Results\n",
    "print(f\"f-statistic: {f_stat}\")\n",
    "print(f\"p-value: {p_value}\")\n",
    "\n",
    "# Interpretation\n",
    "\n",
    "if p_value < 0.05:\n",
    "    print(\"Significant difference found.\")\n",
    "else:\n",
    "    print(\"No significant difference found.\")"
   ]
  },
  {
   "cell_type": "code",
   "execution_count": 104,
   "id": "0aafbab1-c7b6-49a4-8748-37da20d06fa4",
   "metadata": {},
   "outputs": [
    {
     "name": "stdout",
     "output_type": "stream",
     "text": [
      "f-statistic: 0.01337683285784064\n",
      "p-value: 0.9867122428885771\n",
      "No significant difference found.\n"
     ]
    }
   ],
   "source": [
    "low_bmi = df[df['Heart_Attack_Risk'] == 'Low']['BMI']\n",
    "moderate_bmi = df[df['Heart_Attack_Risk'] == 'Moderate']['BMI']\n",
    "high_bmi = df[df['Heart_Attack_Risk'] == 'High']['BMI']\n",
    "\n",
    "# Perform One-Way ANOVA Test\n",
    "f_stat, p_value = stats.f_oneway(low_bmi, moderate_bmi, high_bmi)\n",
    "\n",
    "# Print Results\n",
    "print(f\"f-statistic: {f_stat}\")\n",
    "print(f\"p-value: {p_value}\")\n",
    "\n",
    "# Interpretation\n",
    "\n",
    "if p_value < 0.05:\n",
    "    print(\"Significant difference found.\")\n",
    "else:\n",
    "    print(\"No significant difference found.\")"
   ]
  },
  {
   "cell_type": "code",
   "execution_count": 106,
   "id": "6b5430a8-d745-492b-9b55-2ec72d87d180",
   "metadata": {},
   "outputs": [
    {
     "name": "stdout",
     "output_type": "stream",
     "text": [
      "f-statistic: 0.40751415044113126\n",
      "p-value: 0.6653042468254764\n",
      "No significant difference found.\n"
     ]
    }
   ],
   "source": [
    "low_level = df[df['Heart_Attack_Risk'] == 'Low']['Cholesterol_Level']\n",
    "moderate_level = df[df['Heart_Attack_Risk'] == 'Moderate']['Cholesterol_Level']\n",
    "high_level = df[df['Heart_Attack_Risk'] == 'High']['Cholesterol_Level']\n",
    "\n",
    "# Perform One-Way ANOVA Test\n",
    "f_stat, p_value = stats.f_oneway(low_level, moderate_level, high_level)\n",
    "\n",
    "# Print Results\n",
    "print(f\"f-statistic: {f_stat}\")\n",
    "print(f\"p-value: {p_value}\")\n",
    "\n",
    "# Interpretation\n",
    "\n",
    "if p_value < 0.05:\n",
    "    print(\"Significant difference found.\")\n",
    "else:\n",
    "    print(\"No significant difference found.\")"
   ]
  },
  {
   "cell_type": "code",
   "execution_count": 108,
   "id": "a530e643-bb01-419f-8757-55edc62429b2",
   "metadata": {},
   "outputs": [
    {
     "name": "stdout",
     "output_type": "stream",
     "text": [
      "f-statistic: 1.039391865028412\n",
      "p-value: 0.3536773374582619\n",
      "No significant difference found.\n"
     ]
    }
   ],
   "source": [
    "low_bp = df[df['Heart_Attack_Risk'] == 'Low']['Resting_BP']\n",
    "moderate_bp = df[df['Heart_Attack_Risk'] == 'Moderate']['Resting_BP']\n",
    "high_bp = df[df['Heart_Attack_Risk'] == 'High']['Resting_BP']\n",
    "\n",
    "# Perform One-Way ANOVA Test\n",
    "f_stat, p_value = stats.f_oneway(low_bp, moderate_bp, high_bp)\n",
    "\n",
    "# Print Results\n",
    "print(f\"f-statistic: {f_stat}\")\n",
    "print(f\"p-value: {p_value}\")\n",
    "\n",
    "# Interpretation\n",
    "\n",
    "if p_value < 0.05:\n",
    "    print(\"Significant difference found.\")\n",
    "else:\n",
    "    print(\"No significant difference found.\")"
   ]
  },
  {
   "cell_type": "code",
   "execution_count": 109,
   "id": "e91018f1-09c0-4921-b61d-0219e00379e0",
   "metadata": {},
   "outputs": [
    {
     "name": "stdout",
     "output_type": "stream",
     "text": [
      "f-statistic: 1.527885092164645\n",
      "p-value: 0.21700423650027018\n",
      "No significant difference found.\n"
     ]
    }
   ],
   "source": [
    "low_bp = df[df['Heart_Attack_Risk'] == 'Low']['Heart_Rate']\n",
    "moderate_bp = df[df['Heart_Attack_Risk'] == 'Moderate']['Heart_Rate']\n",
    "high_bp = df[df['Heart_Attack_Risk'] == 'High']['Heart_Rate']\n",
    "\n",
    "# Perform One-Way ANOVA Test\n",
    "f_stat, p_value = stats.f_oneway(low_bp, moderate_bp, high_bp)\n",
    "\n",
    "# Print Results\n",
    "print(f\"f-statistic: {f_stat}\")\n",
    "print(f\"p-value: {p_value}\")\n",
    "\n",
    "# Interpretation\n",
    "\n",
    "if p_value < 0.05:\n",
    "    print(\"Significant difference found.\")\n",
    "else:\n",
    "    print(\"No significant difference found.\")"
   ]
  }
 ],
 "metadata": {
  "kernelspec": {
   "display_name": "Python 3 (ipykernel)",
   "language": "python",
   "name": "python3"
  },
  "language_info": {
   "codemirror_mode": {
    "name": "ipython",
    "version": 3
   },
   "file_extension": ".py",
   "mimetype": "text/x-python",
   "name": "python",
   "nbconvert_exporter": "python",
   "pygments_lexer": "ipython3",
   "version": "3.12.4"
  }
 },
 "nbformat": 4,
 "nbformat_minor": 5
}
