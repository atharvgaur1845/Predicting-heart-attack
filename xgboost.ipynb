{
 "cells": [
  {
   "cell_type": "code",
   "execution_count": 2,
   "metadata": {},
   "outputs": [],
   "source": [
    "import numpy as np\n",
    "import pandas as pd\n",
    "import xgboost as xgb\n",
    "from sklearn.model_selection import train_test_split\n",
    "from sklearn.metrics import accuracy_score\n",
    "from sklearn.preprocessing import LabelEncoder"
   ]
  },
  {
   "cell_type": "code",
   "execution_count": 63,
   "metadata": {
    "scrolled": true
   },
   "outputs": [
    {
     "name": "stdout",
     "output_type": "stream",
     "text": [
      "   Age  Gender  Smoking  Alcohol_Consumption Physical_Activity_Level    BMI  \\\n",
      "0   69  Female        1                    0                Moderate  34.61   \n",
      "1   32    Male        0                    0                Moderate  22.75   \n",
      "2   89    Male        0                    1                Moderate  35.32   \n",
      "3   78    Male        0                    1                Moderate  18.23   \n",
      "4   38  Female        1                    0                Moderate  19.82   \n",
      "\n",
      "   Diabetes  Hypertension  Cholesterol_Level  Resting_BP  Heart_Rate  \\\n",
      "0         1             0              152.1         171          85   \n",
      "1         0             0              166.8         126         103   \n",
      "2         0             0              272.3         123         127   \n",
      "3         1             0              237.7         144         125   \n",
      "4         0             0              207.7         123         107   \n",
      "\n",
      "   Family_History Stress_Level Chest_Pain_Type        Thalassemia  \\\n",
      "0               0     Moderate     Non-anginal  Reversible defect   \n",
      "1               0          Low    Asymptomatic             Normal   \n",
      "2               0          Low         Typical  Reversible defect   \n",
      "3               0          Low         Typical       Fixed defect   \n",
      "4               0         High    Asymptomatic  Reversible defect   \n",
      "\n",
      "   Fasting_Blood_Sugar                   ECG_Results  Exercise_Induced_Angina  \\\n",
      "0                    0                        Normal                        0   \n",
      "1                    0              ST-T abnormality                        0   \n",
      "2                    0              ST-T abnormality                        0   \n",
      "3                    1  Left Ventricular Hypertrophy                        0   \n",
      "4                    0              ST-T abnormality                        0   \n",
      "\n",
      "   Max_Heart_Rate_Achieved Heart_Attack_Risk  \n",
      "0                      114               Low  \n",
      "1                      173          Moderate  \n",
      "2                      109               Low  \n",
      "3                      129               Low  \n",
      "4                      124          Moderate  \n"
     ]
    }
   ],
   "source": [
    "# Load dataset from CSV\n",
    "df = pd.read_csv(\"heart_attack_risk_dataset.csv\")  #making the dataframe\n",
    "\n",
    "# Display the first few rows\n",
    "print(df.head())"
   ]
  },
  {
   "cell_type": "code",
   "execution_count": 59,
   "metadata": {},
   "outputs": [
    {
     "name": "stdout",
     "output_type": "stream",
     "text": [
      "0       NaN\n",
      "1       NaN\n",
      "2       NaN\n",
      "3       NaN\n",
      "4       NaN\n",
      "         ..\n",
      "49995   NaN\n",
      "49996   NaN\n",
      "49997   NaN\n",
      "49998   NaN\n",
      "49999   NaN\n",
      "Name: Heart_Attack_Risk, Length: 50000, dtype: float64\n"
     ]
    }
   ],
   "source": [
    "print(df['Heart_Attack_Risk'])"
   ]
  },
  {
   "cell_type": "code",
   "execution_count": 64,
   "metadata": {},
   "outputs": [
    {
     "name": "stdout",
     "output_type": "stream",
     "text": [
      "0        1\n",
      "1        2\n",
      "2        1\n",
      "3        1\n",
      "4        2\n",
      "        ..\n",
      "49995    0\n",
      "49996    2\n",
      "49997    1\n",
      "49998    2\n",
      "49999    2\n",
      "Name: Heart_Attack_Risk, Length: 50000, dtype: int64\n"
     ]
    }
   ],
   "source": [
    "# Define categorical and numerical features\n",
    "categorical_features = ['Smoking', 'Diabetes', 'Alcohol_Consumption', 'Family_History',\n",
    "                        'Gender', 'Physical_Activity_Level', 'Stress_Level',\n",
    "                        'Chest_Pain_Type', 'Thalassemia', 'ECG_Results','Exercise_Induced_Angina']\n",
    "numerical_features = ['Age', 'Cholesterol', 'Resting_BP','BMI','Heart_Rate','Max_Heart_Rate_Achieved']\n",
    "\n",
    "# Convert numerical categorical features to type 'category'\n",
    "df[['Smoking', 'Diabetes', 'Alcohol_Consumption', 'Family_History',\n",
    "    'Gender', 'Physical_Activity_Level', 'Stress_Level',\n",
    "    'Chest_Pain_Type', 'Thalassemia', 'ECG_Results','Exercise_Induced_Angina']] = df[['Smoking', 'Diabetes', 'Alcohol_Consumption', 'Family_History',\n",
    "                        'Gender', 'Physical_Activity_Level', 'Stress_Level',\n",
    "                        'Chest_Pain_Type', 'Thalassemia', 'ECG_Results','Exercise_Induced_Angina']].astype('category')\n",
    "\n",
    "# Label Encode string categorical features\n",
    "label_encoders = {}\n",
    "for col in ['Smoking', 'Diabetes', 'Alcohol_Consumption', 'Family_History',\n",
    "    'Gender', 'Physical_Activity_Level', 'Stress_Level',\n",
    "    'Chest_Pain_Type', 'Thalassemia', 'ECG_Results','Exercise_Induced_Angina','Heart_Attack_Risk']:\n",
    "    le = LabelEncoder()\n",
    "    df[col] = le.fit_transform(df[col])\n",
    "    label_encoders[col] = le\n",
    "# Encode target variable to numeric values\n",
    "target_mapping = {'Low': 0, 'Moderate': 1, 'High': 2}\n",
    "#df['Heart_Attack_Risk'] = df['Heart_Attack_Risk'].map(target_mapping)\n",
    "# Ensure y has valid classes\n",
    "#print(\"Unique target values after encoding:\", df['Heart_Attack_Risk'].unique())'''\n",
    "print(df['Heart_Attack_Risk'])"
   ]
  },
  {
   "cell_type": "code",
   "execution_count": 65,
   "metadata": {},
   "outputs": [
    {
     "name": "stderr",
     "output_type": "stream",
     "text": [
      "C:\\Users\\Asus\\AppData\\Local\\Programs\\Python\\Python312\\Lib\\site-packages\\xgboost\\core.py:158: UserWarning: [19:32:21] WARNING: C:\\buildkite-agent\\builds\\buildkite-windows-cpu-autoscaling-group-i-08cbc0333d8d4aae1-1\\xgboost\\xgboost-ci-windows\\src\\learner.cc:740: \n",
      "Parameters: { \"use_label_encoder\" } are not used.\n",
      "\n",
      "  warnings.warn(smsg, UserWarning)\n"
     ]
    },
    {
     "name": "stdout",
     "output_type": "stream",
     "text": [
      "Model Accuracy: 0.48\n"
     ]
    }
   ],
   "source": [
    "\n",
    "# Split dataset into features (X) and target variable (y)\n",
    "X = df.drop(columns=['Heart_Attack_Risk'])\n",
    "y = df['Heart_Attack_Risk']\n",
    "\n",
    "# Split into training and testing sets\n",
    "X_train, X_test, y_train, y_test = train_test_split(X, y, test_size=0.2, random_state=42)\n",
    "\n",
    "# Initialize XGBoost classifier\n",
    "model = xgb.XGBClassifier(use_label_encoder=False, eval_metric='logloss')\n",
    "\n",
    "# Train the model\n",
    "model.fit(X_train, y_train)\n",
    "\n",
    "# Make predictions\n",
    "y_pred = model.predict(X_test)\n",
    "\n",
    "# Evaluate model accuracy\n",
    "accuracy = accuracy_score(y_test, y_pred)\n",
    "print(f'Model Accuracy: {accuracy:.2f}')\n",
    "\n"
   ]
  }
 ],
 "metadata": {
  "kernelspec": {
   "display_name": "Python 3 (ipykernel)",
   "language": "python",
   "name": "python3"
  },
  "language_info": {
   "codemirror_mode": {
    "name": "ipython",
    "version": 3
   },
   "file_extension": ".py",
   "mimetype": "text/x-python",
   "name": "python",
   "nbconvert_exporter": "python",
   "pygments_lexer": "ipython3",
   "version": "3.12.4"
  }
 },
 "nbformat": 4,
 "nbformat_minor": 4
}
